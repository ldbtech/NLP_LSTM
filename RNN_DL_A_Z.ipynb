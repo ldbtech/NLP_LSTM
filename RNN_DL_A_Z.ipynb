{
  "nbformat": 4,
  "nbformat_minor": 0,
  "metadata": {
    "colab": {
      "provenance": []
    },
    "kernelspec": {
      "name": "python3",
      "display_name": "Python 3"
    },
    "language_info": {
      "name": "python"
    }
  },
  "cells": [
    {
      "cell_type": "code",
      "execution_count": 85,
      "metadata": {
        "id": "T6bPqr5On4pZ"
      },
      "outputs": [],
      "source": [
        "import numpy as np \n",
        "import pandas as pd \n",
        "import matplotlib.pyplot as plt"
      ]
    },
    {
      "cell_type": "code",
      "source": [
        "train = pd.read_csv('Google_Stock_Price_Train.csv')\n",
        "training_set = train.iloc[:, 1:2].values\n",
        "training_set"
      ],
      "metadata": {
        "colab": {
          "base_uri": "https://localhost:8080/"
        },
        "id": "i0OOh91mn8fc",
        "outputId": "358c54e8-c909-4f61-d8f6-9fc1f42cabf4"
      },
      "execution_count": 86,
      "outputs": [
        {
          "output_type": "execute_result",
          "data": {
            "text/plain": [
              "array([[325.25],\n",
              "       [331.27],\n",
              "       [329.83],\n",
              "       ...,\n",
              "       [793.7 ],\n",
              "       [783.33],\n",
              "       [782.75]])"
            ]
          },
          "metadata": {},
          "execution_count": 86
        }
      ]
    },
    {
      "cell_type": "code",
      "source": [
        "from sklearn.preprocessing import MinMaxScaler\n",
        "sc = MinMaxScaler(feature_range=(0, 1))\n",
        "training_set_scaler = sc.fit_transform(training_set)"
      ],
      "metadata": {
        "id": "rNwx72N7oCxb"
      },
      "execution_count": 87,
      "outputs": []
    },
    {
      "cell_type": "code",
      "source": [
        "X_train = []\n",
        "y_train = []\n",
        "for i in range(60, 1258):\n",
        "  X_train.append(training_set_scaler[i-60:i, 0])\n",
        "  y_train.append(training_set_scaler[i, 0])\n",
        "X_train, y_train = np.array(X_train), np.array(y_train)\n",
        "X_train"
      ],
      "metadata": {
        "colab": {
          "base_uri": "https://localhost:8080/"
        },
        "id": "5T_DBYfyoifA",
        "outputId": "8948068e-45c0-4196-d45f-e77869c7f79b"
      },
      "execution_count": 88,
      "outputs": [
        {
          "output_type": "execute_result",
          "data": {
            "text/plain": [
              "array([[0.08581368, 0.09701243, 0.09433366, ..., 0.07846566, 0.08034452,\n",
              "        0.08497656],\n",
              "       [0.09701243, 0.09433366, 0.09156187, ..., 0.08034452, 0.08497656,\n",
              "        0.08627874],\n",
              "       [0.09433366, 0.09156187, 0.07984225, ..., 0.08497656, 0.08627874,\n",
              "        0.08471612],\n",
              "       ...,\n",
              "       [0.92106928, 0.92438053, 0.93048218, ..., 0.95475854, 0.95204256,\n",
              "        0.95163331],\n",
              "       [0.92438053, 0.93048218, 0.9299055 , ..., 0.95204256, 0.95163331,\n",
              "        0.95725128],\n",
              "       [0.93048218, 0.9299055 , 0.93113327, ..., 0.95163331, 0.95725128,\n",
              "        0.93796041]])"
            ]
          },
          "metadata": {},
          "execution_count": 88
        }
      ]
    },
    {
      "cell_type": "code",
      "source": [
        "# Reshaping \n",
        "X_train = np.reshape(X_train, (X_train.shape[0], X_train.shape[1], 1))\n",
        "X_train.shape"
      ],
      "metadata": {
        "colab": {
          "base_uri": "https://localhost:8080/"
        },
        "id": "1y3pbRYdo6RY",
        "outputId": "d1fa6c54-2e49-426c-8dfb-4f85226a8a95"
      },
      "execution_count": 89,
      "outputs": [
        {
          "output_type": "execute_result",
          "data": {
            "text/plain": [
              "(1198, 60, 1)"
            ]
          },
          "metadata": {},
          "execution_count": 89
        }
      ]
    },
    {
      "cell_type": "code",
      "source": [
        "from keras.models import Sequential\n",
        "from keras.layers import Dense\n",
        "from keras.layers import Dropout\n",
        "from keras.layers import LSTM"
      ],
      "metadata": {
        "id": "Gziqe9tjpFow"
      },
      "execution_count": 90,
      "outputs": []
    },
    {
      "cell_type": "code",
      "source": [
        "regressor = Sequential()"
      ],
      "metadata": {
        "id": "eeKPxQ0TpY08"
      },
      "execution_count": 91,
      "outputs": []
    },
    {
      "cell_type": "code",
      "source": [
        "# ADD ONE LAYER OF LSTM layer and some Dropout regularisation. \n",
        "# Units means neurons for numbers Memory units. \n",
        "# return_sequences equal to true since we will have to add another LSTM layer stacked together. \n",
        "# This is many to one architecture. Since we have many stock indicator but we need to predict one thing. invest or not.\n",
        "regressor.add(LSTM(units = 50, return_sequences=True, input_shape = (X_train.shape[1], 1)))\n",
        "regressor.add(Dropout(0.2))\n",
        "\n",
        "# Adding second layer, we need to modify input_shape no need for it.\n",
        "regressor.add(LSTM(units = 50, return_sequences=True))\n",
        "regressor.add(Dropout(0.2))\n",
        "\n",
        "# Adding third layer \n",
        "regressor.add(LSTM(units = 50, return_sequences=True))\n",
        "regressor.add(Dropout(0.2))\n",
        "\n",
        "# Adding fourth layer\n",
        "regressor.add(LSTM(units = 50))\n",
        "regressor.add(Dropout(0.2))"
      ],
      "metadata": {
        "id": "RtvwjR-Lpkir"
      },
      "execution_count": 92,
      "outputs": []
    },
    {
      "cell_type": "code",
      "source": [
        "# Final layer : Output layer. We need fully connected layer which Dense Class.\n",
        "regressor.add(Dense(units = 1))"
      ],
      "metadata": {
        "id": "RW9tqR7useqP"
      },
      "execution_count": 93,
      "outputs": []
    },
    {
      "cell_type": "code",
      "source": [
        "regressor.compile(optimizer='adam', loss='mean_squared_error')"
      ],
      "metadata": {
        "id": "ZCOyyrrEs_1G"
      },
      "execution_count": 94,
      "outputs": []
    },
    {
      "cell_type": "code",
      "source": [
        "# Fitting the RNN above architecture to training set.\n",
        "regressor.fit(X_train, y_train, epochs = 100, batch_size = 32)"
      ],
      "metadata": {
        "colab": {
          "base_uri": "https://localhost:8080/"
        },
        "id": "NDV9bAkwt6Pw",
        "outputId": "1167c8ff-9c9f-4a63-d057-5e37e6a0483c"
      },
      "execution_count": 95,
      "outputs": [
        {
          "output_type": "stream",
          "name": "stdout",
          "text": [
            "Epoch 1/100\n",
            "38/38 [==============================] - 16s 162ms/step - loss: 0.0473\n",
            "Epoch 2/100\n",
            "38/38 [==============================] - 5s 139ms/step - loss: 0.0072\n",
            "Epoch 3/100\n",
            "38/38 [==============================] - 6s 163ms/step - loss: 0.0054\n",
            "Epoch 4/100\n",
            "38/38 [==============================] - 5s 142ms/step - loss: 0.0056\n",
            "Epoch 5/100\n",
            "38/38 [==============================] - 7s 195ms/step - loss: 0.0047\n",
            "Epoch 6/100\n",
            "38/38 [==============================] - 5s 134ms/step - loss: 0.0048\n",
            "Epoch 7/100\n",
            "38/38 [==============================] - 5s 142ms/step - loss: 0.0047\n",
            "Epoch 8/100\n",
            "38/38 [==============================] - 6s 156ms/step - loss: 0.0048\n",
            "Epoch 9/100\n",
            "38/38 [==============================] - 5s 136ms/step - loss: 0.0045\n",
            "Epoch 10/100\n",
            "38/38 [==============================] - 6s 171ms/step - loss: 0.0041\n",
            "Epoch 11/100\n",
            "38/38 [==============================] - 5s 137ms/step - loss: 0.0045\n",
            "Epoch 12/100\n",
            "38/38 [==============================] - 7s 173ms/step - loss: 0.0040\n",
            "Epoch 13/100\n",
            "38/38 [==============================] - 5s 144ms/step - loss: 0.0041\n",
            "Epoch 14/100\n",
            "38/38 [==============================] - 7s 174ms/step - loss: 0.0046\n",
            "Epoch 15/100\n",
            "38/38 [==============================] - 5s 140ms/step - loss: 0.0041\n",
            "Epoch 16/100\n",
            "38/38 [==============================] - 7s 172ms/step - loss: 0.0042\n",
            "Epoch 17/100\n",
            "38/38 [==============================] - 5s 141ms/step - loss: 0.0040\n",
            "Epoch 18/100\n",
            "38/38 [==============================] - 6s 151ms/step - loss: 0.0041\n",
            "Epoch 19/100\n",
            "38/38 [==============================] - 6s 148ms/step - loss: 0.0038\n",
            "Epoch 20/100\n",
            "38/38 [==============================] - 5s 143ms/step - loss: 0.0040\n",
            "Epoch 21/100\n",
            "38/38 [==============================] - 6s 163ms/step - loss: 0.0038\n",
            "Epoch 22/100\n",
            "38/38 [==============================] - 5s 135ms/step - loss: 0.0035\n",
            "Epoch 23/100\n",
            "38/38 [==============================] - 6s 164ms/step - loss: 0.0031\n",
            "Epoch 24/100\n",
            "38/38 [==============================] - 5s 136ms/step - loss: 0.0031\n",
            "Epoch 25/100\n",
            "38/38 [==============================] - 6s 165ms/step - loss: 0.0034\n",
            "Epoch 26/100\n",
            "38/38 [==============================] - 5s 138ms/step - loss: 0.0032\n",
            "Epoch 27/100\n",
            "38/38 [==============================] - 6s 163ms/step - loss: 0.0027\n",
            "Epoch 28/100\n",
            "38/38 [==============================] - 5s 136ms/step - loss: 0.0033\n",
            "Epoch 29/100\n",
            "38/38 [==============================] - 6s 150ms/step - loss: 0.0032\n",
            "Epoch 30/100\n",
            "38/38 [==============================] - 6s 158ms/step - loss: 0.0030\n",
            "Epoch 31/100\n",
            "38/38 [==============================] - 5s 131ms/step - loss: 0.0030\n",
            "Epoch 32/100\n",
            "38/38 [==============================] - 6s 171ms/step - loss: 0.0031\n",
            "Epoch 33/100\n",
            "38/38 [==============================] - 5s 136ms/step - loss: 0.0027\n",
            "Epoch 34/100\n",
            "38/38 [==============================] - 6s 169ms/step - loss: 0.0028\n",
            "Epoch 35/100\n",
            "38/38 [==============================] - 5s 143ms/step - loss: 0.0031\n",
            "Epoch 36/100\n",
            "38/38 [==============================] - 6s 172ms/step - loss: 0.0032\n",
            "Epoch 37/100\n",
            "38/38 [==============================] - 5s 137ms/step - loss: 0.0031\n",
            "Epoch 38/100\n",
            "38/38 [==============================] - 6s 167ms/step - loss: 0.0029\n",
            "Epoch 39/100\n",
            "38/38 [==============================] - 5s 141ms/step - loss: 0.0029\n",
            "Epoch 40/100\n",
            "38/38 [==============================] - 5s 144ms/step - loss: 0.0028\n",
            "Epoch 41/100\n",
            "38/38 [==============================] - 6s 158ms/step - loss: 0.0027\n",
            "Epoch 42/100\n",
            "38/38 [==============================] - 5s 133ms/step - loss: 0.0025\n",
            "Epoch 43/100\n",
            "38/38 [==============================] - 6s 170ms/step - loss: 0.0027\n",
            "Epoch 44/100\n",
            "38/38 [==============================] - 5s 139ms/step - loss: 0.0024\n",
            "Epoch 45/100\n",
            "38/38 [==============================] - 7s 173ms/step - loss: 0.0024\n",
            "Epoch 46/100\n",
            "38/38 [==============================] - 5s 138ms/step - loss: 0.0026\n",
            "Epoch 47/100\n",
            "38/38 [==============================] - 6s 169ms/step - loss: 0.0025\n",
            "Epoch 48/100\n",
            "38/38 [==============================] - 5s 143ms/step - loss: 0.0027\n",
            "Epoch 49/100\n",
            "38/38 [==============================] - 7s 172ms/step - loss: 0.0024\n",
            "Epoch 50/100\n",
            "38/38 [==============================] - 5s 139ms/step - loss: 0.0025\n",
            "Epoch 51/100\n",
            "38/38 [==============================] - 6s 157ms/step - loss: 0.0023\n",
            "Epoch 52/100\n",
            "38/38 [==============================] - 6s 146ms/step - loss: 0.0022\n",
            "Epoch 53/100\n",
            "38/38 [==============================] - 5s 145ms/step - loss: 0.0023\n",
            "Epoch 54/100\n",
            "38/38 [==============================] - 7s 170ms/step - loss: 0.0025\n",
            "Epoch 55/100\n",
            "38/38 [==============================] - 5s 139ms/step - loss: 0.0022\n",
            "Epoch 56/100\n",
            "38/38 [==============================] - 6s 168ms/step - loss: 0.0023\n",
            "Epoch 57/100\n",
            "38/38 [==============================] - 5s 138ms/step - loss: 0.0023\n",
            "Epoch 58/100\n",
            "38/38 [==============================] - 7s 172ms/step - loss: 0.0021\n",
            "Epoch 59/100\n",
            "38/38 [==============================] - 6s 148ms/step - loss: 0.0021\n",
            "Epoch 60/100\n",
            "38/38 [==============================] - 6s 161ms/step - loss: 0.0022\n",
            "Epoch 61/100\n",
            "38/38 [==============================] - 5s 136ms/step - loss: 0.0022\n",
            "Epoch 62/100\n",
            "38/38 [==============================] - 6s 166ms/step - loss: 0.0022\n",
            "Epoch 63/100\n",
            "38/38 [==============================] - 5s 143ms/step - loss: 0.0020\n",
            "Epoch 64/100\n",
            "38/38 [==============================] - 6s 162ms/step - loss: 0.0021\n",
            "Epoch 65/100\n",
            "38/38 [==============================] - 6s 146ms/step - loss: 0.0020\n",
            "Epoch 66/100\n",
            "38/38 [==============================] - 5s 138ms/step - loss: 0.0022\n",
            "Epoch 67/100\n",
            "38/38 [==============================] - 7s 174ms/step - loss: 0.0020\n",
            "Epoch 68/100\n",
            "38/38 [==============================] - 5s 141ms/step - loss: 0.0019\n",
            "Epoch 69/100\n",
            "38/38 [==============================] - 6s 166ms/step - loss: 0.0018\n",
            "Epoch 70/100\n",
            "38/38 [==============================] - 5s 141ms/step - loss: 0.0018\n",
            "Epoch 71/100\n",
            "38/38 [==============================] - 7s 176ms/step - loss: 0.0020\n",
            "Epoch 72/100\n",
            "38/38 [==============================] - 5s 139ms/step - loss: 0.0020\n",
            "Epoch 73/100\n",
            "38/38 [==============================] - 6s 164ms/step - loss: 0.0017\n",
            "Epoch 74/100\n",
            "38/38 [==============================] - 6s 147ms/step - loss: 0.0019\n",
            "Epoch 75/100\n",
            "38/38 [==============================] - 6s 169ms/step - loss: 0.0018\n",
            "Epoch 76/100\n",
            "38/38 [==============================] - 5s 142ms/step - loss: 0.0017\n",
            "Epoch 77/100\n",
            "38/38 [==============================] - 6s 160ms/step - loss: 0.0019\n",
            "Epoch 78/100\n",
            "38/38 [==============================] - 6s 151ms/step - loss: 0.0019\n",
            "Epoch 79/100\n",
            "38/38 [==============================] - 5s 143ms/step - loss: 0.0020\n",
            "Epoch 80/100\n",
            "38/38 [==============================] - 6s 165ms/step - loss: 0.0019\n",
            "Epoch 81/100\n",
            "38/38 [==============================] - 5s 143ms/step - loss: 0.0016\n",
            "Epoch 82/100\n",
            "38/38 [==============================] - 7s 177ms/step - loss: 0.0018\n",
            "Epoch 83/100\n",
            "38/38 [==============================] - 6s 150ms/step - loss: 0.0016\n",
            "Epoch 84/100\n",
            "38/38 [==============================] - 7s 173ms/step - loss: 0.0015\n",
            "Epoch 85/100\n",
            "38/38 [==============================] - 6s 150ms/step - loss: 0.0016\n",
            "Epoch 86/100\n",
            "38/38 [==============================] - 7s 177ms/step - loss: 0.0015\n",
            "Epoch 87/100\n",
            "38/38 [==============================] - 6s 147ms/step - loss: 0.0015\n",
            "Epoch 88/100\n",
            "38/38 [==============================] - 7s 173ms/step - loss: 0.0016\n",
            "Epoch 89/100\n",
            "38/38 [==============================] - 6s 148ms/step - loss: 0.0014\n",
            "Epoch 90/100\n",
            "38/38 [==============================] - 7s 172ms/step - loss: 0.0014\n",
            "Epoch 91/100\n",
            "38/38 [==============================] - 5s 137ms/step - loss: 0.0016\n",
            "Epoch 92/100\n",
            "38/38 [==============================] - 7s 175ms/step - loss: 0.0014\n",
            "Epoch 93/100\n",
            "38/38 [==============================] - 5s 137ms/step - loss: 0.0017\n",
            "Epoch 94/100\n",
            "38/38 [==============================] - 6s 171ms/step - loss: 0.0018\n",
            "Epoch 95/100\n",
            "38/38 [==============================] - 6s 148ms/step - loss: 0.0017\n",
            "Epoch 96/100\n",
            "38/38 [==============================] - 6s 163ms/step - loss: 0.0015\n",
            "Epoch 97/100\n",
            "38/38 [==============================] - 6s 155ms/step - loss: 0.0015\n",
            "Epoch 98/100\n",
            "38/38 [==============================] - 6s 147ms/step - loss: 0.0015\n",
            "Epoch 99/100\n",
            "38/38 [==============================] - 6s 168ms/step - loss: 0.0014\n",
            "Epoch 100/100\n",
            "38/38 [==============================] - 5s 143ms/step - loss: 0.0016\n"
          ]
        },
        {
          "output_type": "execute_result",
          "data": {
            "text/plain": [
              "<keras.callbacks.History at 0x7f1b3e15e3a0>"
            ]
          },
          "metadata": {},
          "execution_count": 95
        }
      ]
    },
    {
      "cell_type": "code",
      "source": [
        "# Making the predictions and Visualising the result. \n",
        "# Getting the real stock price of 2017\n",
        "test_set = pd.read_csv(\"Google_Stock_Price_Test.csv\")\n",
        "real_stock = test_set.iloc[:, 1:2].values"
      ],
      "metadata": {
        "id": "gAQ4LCLDu4cw"
      },
      "execution_count": 103,
      "outputs": []
    },
    {
      "cell_type": "code",
      "source": [
        "test_set.head(4)"
      ],
      "metadata": {
        "colab": {
          "base_uri": "https://localhost:8080/",
          "height": 173
        },
        "id": "gcPW9jQ3yOH1",
        "outputId": "b0bbda0a-5eb8-42ad-f088-eb757f3c9d4b"
      },
      "execution_count": 104,
      "outputs": [
        {
          "output_type": "execute_result",
          "data": {
            "text/plain": [
              "       Date    Open    High     Low   Close     Volume\n",
              "0  1/3/2017  778.81  789.63  775.80  786.14  1,657,300\n",
              "1  1/4/2017  788.36  791.34  783.16  786.90  1,073,000\n",
              "2  1/5/2017  786.08  794.48  785.02  794.02  1,335,200\n",
              "3  1/6/2017  795.26  807.90  792.20  806.15  1,640,200"
            ],
            "text/html": [
              "\n",
              "  <div id=\"df-7b940876-08f3-47de-a012-c5db779d9a6a\">\n",
              "    <div class=\"colab-df-container\">\n",
              "      <div>\n",
              "<style scoped>\n",
              "    .dataframe tbody tr th:only-of-type {\n",
              "        vertical-align: middle;\n",
              "    }\n",
              "\n",
              "    .dataframe tbody tr th {\n",
              "        vertical-align: top;\n",
              "    }\n",
              "\n",
              "    .dataframe thead th {\n",
              "        text-align: right;\n",
              "    }\n",
              "</style>\n",
              "<table border=\"1\" class=\"dataframe\">\n",
              "  <thead>\n",
              "    <tr style=\"text-align: right;\">\n",
              "      <th></th>\n",
              "      <th>Date</th>\n",
              "      <th>Open</th>\n",
              "      <th>High</th>\n",
              "      <th>Low</th>\n",
              "      <th>Close</th>\n",
              "      <th>Volume</th>\n",
              "    </tr>\n",
              "  </thead>\n",
              "  <tbody>\n",
              "    <tr>\n",
              "      <th>0</th>\n",
              "      <td>1/3/2017</td>\n",
              "      <td>778.81</td>\n",
              "      <td>789.63</td>\n",
              "      <td>775.80</td>\n",
              "      <td>786.14</td>\n",
              "      <td>1,657,300</td>\n",
              "    </tr>\n",
              "    <tr>\n",
              "      <th>1</th>\n",
              "      <td>1/4/2017</td>\n",
              "      <td>788.36</td>\n",
              "      <td>791.34</td>\n",
              "      <td>783.16</td>\n",
              "      <td>786.90</td>\n",
              "      <td>1,073,000</td>\n",
              "    </tr>\n",
              "    <tr>\n",
              "      <th>2</th>\n",
              "      <td>1/5/2017</td>\n",
              "      <td>786.08</td>\n",
              "      <td>794.48</td>\n",
              "      <td>785.02</td>\n",
              "      <td>794.02</td>\n",
              "      <td>1,335,200</td>\n",
              "    </tr>\n",
              "    <tr>\n",
              "      <th>3</th>\n",
              "      <td>1/6/2017</td>\n",
              "      <td>795.26</td>\n",
              "      <td>807.90</td>\n",
              "      <td>792.20</td>\n",
              "      <td>806.15</td>\n",
              "      <td>1,640,200</td>\n",
              "    </tr>\n",
              "  </tbody>\n",
              "</table>\n",
              "</div>\n",
              "      <button class=\"colab-df-convert\" onclick=\"convertToInteractive('df-7b940876-08f3-47de-a012-c5db779d9a6a')\"\n",
              "              title=\"Convert this dataframe to an interactive table.\"\n",
              "              style=\"display:none;\">\n",
              "        \n",
              "  <svg xmlns=\"http://www.w3.org/2000/svg\" height=\"24px\"viewBox=\"0 0 24 24\"\n",
              "       width=\"24px\">\n",
              "    <path d=\"M0 0h24v24H0V0z\" fill=\"none\"/>\n",
              "    <path d=\"M18.56 5.44l.94 2.06.94-2.06 2.06-.94-2.06-.94-.94-2.06-.94 2.06-2.06.94zm-11 1L8.5 8.5l.94-2.06 2.06-.94-2.06-.94L8.5 2.5l-.94 2.06-2.06.94zm10 10l.94 2.06.94-2.06 2.06-.94-2.06-.94-.94-2.06-.94 2.06-2.06.94z\"/><path d=\"M17.41 7.96l-1.37-1.37c-.4-.4-.92-.59-1.43-.59-.52 0-1.04.2-1.43.59L10.3 9.45l-7.72 7.72c-.78.78-.78 2.05 0 2.83L4 21.41c.39.39.9.59 1.41.59.51 0 1.02-.2 1.41-.59l7.78-7.78 2.81-2.81c.8-.78.8-2.07 0-2.86zM5.41 20L4 18.59l7.72-7.72 1.47 1.35L5.41 20z\"/>\n",
              "  </svg>\n",
              "      </button>\n",
              "      \n",
              "  <style>\n",
              "    .colab-df-container {\n",
              "      display:flex;\n",
              "      flex-wrap:wrap;\n",
              "      gap: 12px;\n",
              "    }\n",
              "\n",
              "    .colab-df-convert {\n",
              "      background-color: #E8F0FE;\n",
              "      border: none;\n",
              "      border-radius: 50%;\n",
              "      cursor: pointer;\n",
              "      display: none;\n",
              "      fill: #1967D2;\n",
              "      height: 32px;\n",
              "      padding: 0 0 0 0;\n",
              "      width: 32px;\n",
              "    }\n",
              "\n",
              "    .colab-df-convert:hover {\n",
              "      background-color: #E2EBFA;\n",
              "      box-shadow: 0px 1px 2px rgba(60, 64, 67, 0.3), 0px 1px 3px 1px rgba(60, 64, 67, 0.15);\n",
              "      fill: #174EA6;\n",
              "    }\n",
              "\n",
              "    [theme=dark] .colab-df-convert {\n",
              "      background-color: #3B4455;\n",
              "      fill: #D2E3FC;\n",
              "    }\n",
              "\n",
              "    [theme=dark] .colab-df-convert:hover {\n",
              "      background-color: #434B5C;\n",
              "      box-shadow: 0px 1px 3px 1px rgba(0, 0, 0, 0.15);\n",
              "      filter: drop-shadow(0px 1px 2px rgba(0, 0, 0, 0.3));\n",
              "      fill: #FFFFFF;\n",
              "    }\n",
              "  </style>\n",
              "\n",
              "      <script>\n",
              "        const buttonEl =\n",
              "          document.querySelector('#df-7b940876-08f3-47de-a012-c5db779d9a6a button.colab-df-convert');\n",
              "        buttonEl.style.display =\n",
              "          google.colab.kernel.accessAllowed ? 'block' : 'none';\n",
              "\n",
              "        async function convertToInteractive(key) {\n",
              "          const element = document.querySelector('#df-7b940876-08f3-47de-a012-c5db779d9a6a');\n",
              "          const dataTable =\n",
              "            await google.colab.kernel.invokeFunction('convertToInteractive',\n",
              "                                                     [key], {});\n",
              "          if (!dataTable) return;\n",
              "\n",
              "          const docLinkHtml = 'Like what you see? Visit the ' +\n",
              "            '<a target=\"_blank\" href=https://colab.research.google.com/notebooks/data_table.ipynb>data table notebook</a>'\n",
              "            + ' to learn more about interactive tables.';\n",
              "          element.innerHTML = '';\n",
              "          dataTable['output_type'] = 'display_data';\n",
              "          await google.colab.output.renderOutput(dataTable, element);\n",
              "          const docLink = document.createElement('div');\n",
              "          docLink.innerHTML = docLinkHtml;\n",
              "          element.appendChild(docLink);\n",
              "        }\n",
              "      </script>\n",
              "    </div>\n",
              "  </div>\n",
              "  "
            ]
          },
          "metadata": {},
          "execution_count": 104
        }
      ]
    },
    {
      "cell_type": "code",
      "source": [
        "# Getting the predicted stock price of 2017\n",
        "dataset_tot = pd.concat((train['Open'], test_set['Open']), axis = 0)\n",
        "inputs = dataset_tot[len(dataset_tot) - len(test_set)-60:].values\n",
        "inputs = inputs.reshape(-1, 1)\n",
        "inputs = sc.fit_transform(inputs)"
      ],
      "metadata": {
        "id": "ekLmcJfUyYg_"
      },
      "execution_count": 105,
      "outputs": []
    },
    {
      "cell_type": "code",
      "source": [
        "X_test = []\n",
        "for i in range(60, 80):\n",
        "  X_test.append(inputs[i-60:i, 0])\n",
        "\n",
        "X_test = np.array(X_test)\n",
        "X_test = np.reshape(X_test, (X_test.shape[0], X_test.shape[1], 1))\n",
        "\n",
        "predictions = regressor.predict(X_test)\n",
        "predictions = sc.inverse_transform(predictions)"
      ],
      "metadata": {
        "colab": {
          "base_uri": "https://localhost:8080/"
        },
        "id": "JT0KFyW48DbC",
        "outputId": "7c5a8d59-6f79-429a-bfb5-ff6ec3799a3c"
      },
      "execution_count": 106,
      "outputs": [
        {
          "output_type": "stream",
          "name": "stdout",
          "text": [
            "1/1 [==============================] - 0s 67ms/step\n"
          ]
        }
      ]
    },
    {
      "cell_type": "code",
      "source": [
        "# Visualising the results\n",
        "predictions"
      ],
      "metadata": {
        "colab": {
          "base_uri": "https://localhost:8080/"
        },
        "id": "wc4mDKQ5yrw-",
        "outputId": "0adfca33-46ac-42fa-815e-23b17ff0852f"
      },
      "execution_count": 107,
      "outputs": [
        {
          "output_type": "execute_result",
          "data": {
            "text/plain": [
              "array([[787.1367 ],\n",
              "       [784.5239 ],\n",
              "       [783.0642 ],\n",
              "       [783.0645 ],\n",
              "       [785.32367],\n",
              "       [790.84393],\n",
              "       [797.8424 ],\n",
              "       [802.81354],\n",
              "       [805.08405],\n",
              "       [805.4604 ],\n",
              "       [804.905  ],\n",
              "       [803.99493],\n",
              "       [803.1424 ],\n",
              "       [802.98096],\n",
              "       [803.56244],\n",
              "       [807.4039 ],\n",
              "       [814.6601 ],\n",
              "       [823.5582 ],\n",
              "       [829.12695],\n",
              "       [826.2405 ]], dtype=float32)"
            ]
          },
          "metadata": {},
          "execution_count": 107
        }
      ]
    },
    {
      "cell_type": "code",
      "source": [
        "plt.plot(real_stock, color = 'red', label = 'Real Google Stock Price')\n",
        "plt.plot(predictions, color = 'blue', label = 'Real Google Stock Price')\n",
        "plt.title(\"Google Predicted Stock prices\")\n",
        "plt.xlabel(\"Time\")\n",
        "plt.ylabel('Price')\n",
        "plt.legend()"
      ],
      "metadata": {
        "colab": {
          "base_uri": "https://localhost:8080/",
          "height": 312
        },
        "id": "9RVWIvNn90XW",
        "outputId": "29b96bc2-b5fe-4911-d95f-cb2bd8d20fd6"
      },
      "execution_count": 108,
      "outputs": [
        {
          "output_type": "execute_result",
          "data": {
            "text/plain": [
              "<matplotlib.legend.Legend at 0x7f1b3e0351c0>"
            ]
          },
          "metadata": {},
          "execution_count": 108
        },
        {
          "output_type": "display_data",
          "data": {
            "text/plain": [
              "<Figure size 432x288 with 1 Axes>"
            ],
            "image/png": "[encoded data removed]"
          },
          "metadata": {
            "needs_background": "light"
          }
        }
      ]
    },
    {
      "cell_type": "code",
      "source": [],
      "metadata": {
        "id": "aSPwkFMR975Z"
      },
      "execution_count": null,
      "outputs": []
    }
  ]
}